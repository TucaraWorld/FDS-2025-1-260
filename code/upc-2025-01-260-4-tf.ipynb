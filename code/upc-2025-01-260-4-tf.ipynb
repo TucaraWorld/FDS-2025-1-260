{
  "nbformat": 4,
  "nbformat_minor": 0,
  "metadata": {
    "colab": {
      "provenance": []
    },
    "kernelspec": {
      "name": "python3",
      "display_name": "Python 3"
    },
    "language_info": {
      "name": "python"
    }
  },
  "cells": [
    {
      "cell_type": "code",
      "execution_count": 72,
      "metadata": {
        "id": "E3fIrabuPAfe"
      },
      "outputs": [],
      "source": [
        "import pandas as pd\n",
        "import seaborn as sns\n",
        "import matplotlib.pyplot as plt\n",
        "import numpy as np"
      ]
    },
    {
      "cell_type": "code",
      "source": [
        "data = pd.read_csv('MXvideos_cc50_202101.csv')"
      ],
      "metadata": {
        "id": "uQ1lxJr0SM1w"
      },
      "execution_count": 73,
      "outputs": []
    },
    {
      "cell_type": "code",
      "source": [
        "data_limpia = data.drop_duplicates()\n",
        "data_limpia = data_limpia.drop_duplicates(subset='video_id')"
      ],
      "metadata": {
        "id": "veRL6mCfTolY"
      },
      "execution_count": 74,
      "outputs": []
    },
    {
      "cell_type": "code",
      "source": [
        "#Verificar datos faltantes\n",
        "def imprimir_nulos(df):\n",
        "    total = len(df)\n",
        "    for col in df.columns:\n",
        "        nulos = df[col].isnull().sum()\n",
        "        if nulos > 0:\n",
        "            porcentaje = round((nulos / total) * 100, 2)\n",
        "            print(f\"La columna '{col}' tiene {nulos} datos vacíos, representan un {porcentaje}% de los registros\")\n",
        "\n",
        "print(\"Reporte de valores nulos tras eliminar duplicados:\\n\")\n",
        "imprimir_nulos(data_limpia)"
      ],
      "metadata": {
        "colab": {
          "base_uri": "https://localhost:8080/"
        },
        "id": "zYtntfE_SQ2Y",
        "outputId": "825096a6-4c30-4dc5-ea41-498be45a93cf"
      },
      "execution_count": 75,
      "outputs": [
        {
          "output_type": "stream",
          "name": "stdout",
          "text": [
            "Reporte de valores nulos tras eliminar duplicados:\n",
            "\n",
            "La columna 'video_id' tiene 1 datos vacíos, representan un 0.0% de los registros\n",
            "La columna 'trending_date' tiene 665 datos vacíos, representan un 1.94% de los registros\n",
            "La columna 'title' tiene 701 datos vacíos, representan un 2.05% de los registros\n",
            "La columna 'channel_title' tiene 710 datos vacíos, representan un 2.07% de los registros\n",
            "La columna 'category_id' tiene 738 datos vacíos, representan un 2.15% de los registros\n",
            "La columna 'publish_time' tiene 738 datos vacíos, representan un 2.15% de los registros\n",
            "La columna 'tags' tiene 725 datos vacíos, representan un 2.12% de los registros\n",
            "La columna 'views' tiene 738 datos vacíos, representan un 2.15% de los registros\n",
            "La columna 'likes' tiene 738 datos vacíos, representan un 2.15% de los registros\n",
            "La columna 'dislikes' tiene 738 datos vacíos, representan un 2.15% de los registros\n",
            "La columna 'comment_count' tiene 738 datos vacíos, representan un 2.15% de los registros\n",
            "La columna 'thumbnail_link' tiene 733 datos vacíos, representan un 2.14% de los registros\n",
            "La columna 'comments_disabled' tiene 738 datos vacíos, representan un 2.15% de los registros\n",
            "La columna 'ratings_disabled' tiene 738 datos vacíos, representan un 2.15% de los registros\n",
            "La columna 'video_error_or_removed' tiene 738 datos vacíos, representan un 2.15% de los registros\n",
            "La columna 'description' tiene 4361 datos vacíos, representan un 12.73% de los registros\n"
          ]
        }
      ]
    },
    {
      "cell_type": "code",
      "source": [
        "#Eliminar datos críticos que representan una minoría del dataset\n",
        "total = len(data_limpia)\n",
        "columnas_criticas = [\n",
        "    'video_id', 'trending_date', 'title', 'channel_title', 'category_id',\n",
        "    'publish_time', 'tags', 'views', 'likes', 'dislikes'\n",
        "]\n",
        "\n",
        "for col in columnas_criticas:\n",
        "    nulos = data_limpia[col].isnull().sum()\n",
        "    porcentaje = nulos / total\n",
        "    if porcentaje <= 0.10 and nulos > 0:\n",
        "        print(f\"Eliminando {nulos} registros con nulos en columna crítica: {col} ({round(porcentaje*100,2)}%)\")\n",
        "        data_limpia = data_limpia[data_limpia[col].notnull()]\n",
        "\n",
        "print(\"\\nValores nulos restantes después de limpieza final:\")\n",
        "imprimir_nulos(data_limpia)"
      ],
      "metadata": {
        "colab": {
          "base_uri": "https://localhost:8080/"
        },
        "id": "EvvRAONwUDBx",
        "outputId": "8e9a2e70-b23c-4bed-ab28-7da122049bec"
      },
      "execution_count": 76,
      "outputs": [
        {
          "output_type": "stream",
          "name": "stdout",
          "text": [
            "Eliminando 1 registros con nulos en columna crítica: video_id (0.0%)\n",
            "Eliminando 664 registros con nulos en columna crítica: trending_date (1.94%)\n",
            "Eliminando 36 registros con nulos en columna crítica: title (0.11%)\n",
            "Eliminando 9 registros con nulos en columna crítica: channel_title (0.03%)\n",
            "Eliminando 28 registros con nulos en columna crítica: category_id (0.08%)\n",
            "\n",
            "Valores nulos restantes después de limpieza final:\n",
            "La columna 'description' tiene 3627 datos vacíos, representan un 10.82% de los registros\n"
          ]
        }
      ]
    },
    {
      "cell_type": "code",
      "source": [
        "#Imputar una descripción simbólica a aquellos registros sin descripción\n",
        "def rellenar_descripcion(df):\n",
        "    if 'description' in df.columns:\n",
        "        df['description'] = df['description'].fillna(\"Sin descripción\")\n",
        "    return df\n",
        "\n",
        "data_limpia = rellenar_descripcion(data_limpia)\n",
        "imprimir_nulos(data_limpia)"
      ],
      "metadata": {
        "id": "5INK0sSnV7Ht"
      },
      "execution_count": 77,
      "outputs": []
    },
    {
      "cell_type": "code",
      "source": [
        "columnas = ['views', 'likes', 'dislikes', 'comment_count']\n",
        "\n",
        "for col in columnas:\n",
        "    Q1 = data_limpia[col].quantile(0.25)\n",
        "    Q3 = data_limpia[col].quantile(0.75)\n",
        "    minimo = data_limpia[col].min()\n",
        "    maximo = data_limpia[col].max()\n",
        "    print(f\"{col} → Min: {minimo:.2f}, Q1: {Q1:.2f}, Q3: {Q3:.2f}, Max: {maximo:.2f}\")"
      ],
      "metadata": {
        "colab": {
          "base_uri": "https://localhost:8080/"
        },
        "id": "w4CWCEvgZP8-",
        "outputId": "f8c6e741-c3db-42ef-eab1-2c32a1922383"
      },
      "execution_count": 78,
      "outputs": [
        {
          "output_type": "stream",
          "name": "stdout",
          "text": [
            "views → Min: 157.00, Q1: 13805.00, Q3: 137410.00, Max: 39349928.00\n",
            "likes → Min: 0.00, Q1: 248.00, Q3: 4984.00, Max: 3880211.00\n",
            "dislikes → Min: 0.00, Q1: 14.00, Q3: 171.00, Max: 483969.00\n",
            "comment_count → Min: 0.00, Q1: 33.00, Q3: 632.00, Max: 692356.00\n"
          ]
        }
      ]
    },
    {
      "cell_type": "code",
      "source": [
        "# Boxplots para identificar outliers en columnas numéricas\n",
        "plt.figure(figsize=(14, 10))\n",
        "for i, col in enumerate(['views', 'likes', 'dislikes', 'comment_count']):\n",
        "    plt.subplot(1, 4, i + 1)\n",
        "    sns.boxplot(y=data_limpia[col])\n",
        "    plt.title(f'Boxplot: {col}')\n",
        "plt.tight_layout()\n",
        "plt.show()"
      ],
      "metadata": {
        "colab": {
          "base_uri": "https://localhost:8080/",
          "height": 809
        },
        "id": "BxymCML1UG1i",
        "outputId": "cf6bfa22-6697-4b06-8e93-b1da7e4f2e30"
      },
      "execution_count": 79,
      "outputs": [
        {
          "output_type": "display_data",
          "data": {
            "text/plain": [
              "<Figure size 1400x1000 with 4 Axes>"
            ],
            "image/png": "[encoded data removed]"
          },
          "metadata": {}
        }
      ]
    },
    {
      "cell_type": "markdown",
      "source": [
        "#📌 Winsorización\n",
        "Se aplicó la winsorización al 1% y 99% para reducir la influencia de valores extremos sin eliminar registros. Esta técnica conserva la integridad del dataset y estabiliza medidas como la media y la varianza, especialmente en variables con datos altamente virales como views y likes.\n",
        "\n",
        "#📌 Transformación logarítmica\n",
        "Se utilizó la transformación logarítmica (log(x + 1)) para comprimir la escala de las variables numéricas y mejorar su interpretabilidad. Esto facilita comparaciones proporcionales, análisis de tendencias y modelos predictivos, al suavizar distribuciones sesgadas."
      ],
      "metadata": {
        "id": "JfOFwTzIbiW2"
      }
    },
    {
      "cell_type": "markdown",
      "source": [
        "| Nº | Pregunta                                                                             | ¿Usar log? | Justificación                                                                      |\n",
        "| -- | ------------------------------------------------------------------------------------ | ---------- | ---------------------------------------------------------------------------------- |\n",
        "| 1  | ¿Qué categorías de videos son las de mayor tendencia?                                | ❌          | Puedes usar conteo de videos o views directos (sin log).                           |\n",
        "| 2  | ¿Qué categorías de videos son los que más gustan? ¿Y las que menos gustan?           | ✅          | El log evita que unos pocos videos con millones de likes dominen el promedio.      |\n",
        "| 3  | ¿Qué categorías tienen mejor ratio “Me gusta” / “No me gusta”?                       | ✅          | El uso de `log(likes+1)/log(dislikes+1)` estabiliza proporciones sesgadas.         |\n",
        "| 4  | ¿Qué categorías tienen mejor ratio “Vistas” / “Comentarios”?                         | ✅          | El log ayuda a interpretar mejor la interacción media, evitando valores extremos.  |\n",
        "| 5  | ¿Cómo ha cambiado el volumen de videos en tendencia a lo largo del tiempo?           | ❌          | Puedes usar conteo directo por fecha o categoría.                                  |\n",
        "| 6  | ¿Qué Canales son tendencia más frecuentemente? ¿Y cuáles con menos frecuencia?       | ❌          | Aquí se usa frecuencia (conteo), no valores numéricos extremos.                    |\n",
        "| 7  | ¿En qué Estados se presenta el mayor número de “Vistas”, “Me gusta” y “No me gusta”? | ✅          | Sumar con log reduce distorsión por 1 solo video viral por estado.                 |\n",
        "| 8  | ¿Los videos en tendencia son los que más comentarios positivos reciben?              | ✅          | El log ayuda a analizar correlaciones más suaves con `comment_count`.              |\n",
        "| 9  | ¿Es factible predecir el número de “Vistas”, “Me gusta” o “No me gusta”?             | ✅          | La regresión funciona mejor con variables transformadas para estabilizar varianza. |\n"
      ],
      "metadata": {
        "id": "3RLuU6Dkb3F5"
      }
    },
    {
      "cell_type": "code",
      "source": [
        "# 1. Aplicar winsorización al 1% y 99%\n",
        "def winsorizar(df, columnas, limite_inferior=0.01, limite_superior=0.99):\n",
        "    for col in columnas:\n",
        "        p_inf = df[col].quantile(limite_inferior)\n",
        "        p_sup = df[col].quantile(limite_superior)\n",
        "        df[col] = df[col].clip(lower=p_inf, upper=p_sup)\n",
        "        print(f\"--> Winsorización aplicada a '{col}' entre P1={p_inf:.2f} y P99={p_sup:.2f}\")\n",
        "    return df\n",
        "\n",
        "columnas_numericas = ['views', 'likes', 'dislikes', 'comment_count']\n",
        "data_limpia = winsorizar(data_limpia, columnas_numericas)\n",
        "\n",
        "# 2. Aplicar transformación logarítmica (log1p = log(x+1))\n",
        "for col in columnas_numericas:\n",
        "    data_limpia[f'{col}_log'] = np.log1p(data_limpia[col])\n",
        "    print(f\"=> Transformación logarítmica aplicada a '{col}' → '{col}_log'\")\n",
        "\n",
        "data_limpia[[f'{col}_log' for col in columnas_numericas]].describe()"
      ],
      "metadata": {
        "colab": {
          "base_uri": "https://localhost:8080/",
          "height": 439
        },
        "id": "J9r5RmPuaq-W",
        "outputId": "de256eb9-93f5-4022-e0dc-4f3e0d76a998"
      },
      "execution_count": 80,
      "outputs": [
        {
          "output_type": "stream",
          "name": "stdout",
          "text": [
            "--> Winsorización aplicada a 'views' entre P1=2100.24 y P99=2322629.64\n",
            "--> Winsorización aplicada a 'likes' entre P1=0.00 y P99=139016.72\n",
            "--> Winsorización aplicada a 'dislikes' entre P1=0.00 y P99=4821.76\n",
            "--> Winsorización aplicada a 'comment_count' entre P1=0.00 y P99=20643.64\n",
            "=> Transformación logarítmica aplicada a 'views' → 'views_log'\n",
            "=> Transformación logarítmica aplicada a 'likes' → 'likes_log'\n",
            "=> Transformación logarítmica aplicada a 'dislikes' → 'dislikes_log'\n",
            "=> Transformación logarítmica aplicada a 'comment_count' → 'comment_count_log'\n"
          ]
        },
        {
          "output_type": "execute_result",
          "data": {
            "text/plain": [
              "          views_log     likes_log  dislikes_log  comment_count_log\n",
              "count  33513.000000  33513.000000  33513.000000       33513.000000\n",
              "mean      10.732152      6.952142      3.940854           4.973980\n",
              "std        1.584120      2.223292      1.800233           2.131632\n",
              "min        7.650283      0.000000      0.000000           0.000000\n",
              "25%        9.532859      5.517453      2.708050           3.526361\n",
              "50%       10.637537      6.880384      3.850148           5.023881\n",
              "75%       11.830732      8.514189      5.147494           6.450470\n",
              "max       14.658211     11.842357      8.481102           9.935211"
            ],
            "text/html": [
              "\n",
              "  <div id=\"df-b59c9187-043d-42ba-934f-89066462f371\" class=\"colab-df-container\">\n",
              "    <div>\n",
              "<style scoped>\n",
              "    .dataframe tbody tr th:only-of-type {\n",
              "        vertical-align: middle;\n",
              "    }\n",
              "\n",
              "    .dataframe tbody tr th {\n",
              "        vertical-align: top;\n",
              "    }\n",
              "\n",
              "    .dataframe thead th {\n",
              "        text-align: right;\n",
              "    }\n",
              "</style>\n",
              "<table border=\"1\" class=\"dataframe\">\n",
              "  <thead>\n",
              "    <tr style=\"text-align: right;\">\n",
              "      <th></th>\n",
              "      <th>views_log</th>\n",
              "      <th>likes_log</th>\n",
              "      <th>dislikes_log</th>\n",
              "      <th>comment_count_log</th>\n",
              "    </tr>\n",
              "  </thead>\n",
              "  <tbody>\n",
              "    <tr>\n",
              "      <th>count</th>\n",
              "      <td>33513.000000</td>\n",
              "      <td>33513.000000</td>\n",
              "      <td>33513.000000</td>\n",
              "      <td>33513.000000</td>\n",
              "    </tr>\n",
              "    <tr>\n",
              "      <th>mean</th>\n",
              "      <td>10.732152</td>\n",
              "      <td>6.952142</td>\n",
              "      <td>3.940854</td>\n",
              "      <td>4.973980</td>\n",
              "    </tr>\n",
              "    <tr>\n",
              "      <th>std</th>\n",
              "      <td>1.584120</td>\n",
              "      <td>2.223292</td>\n",
              "      <td>1.800233</td>\n",
              "      <td>2.131632</td>\n",
              "    </tr>\n",
              "    <tr>\n",
              "      <th>min</th>\n",
              "      <td>7.650283</td>\n",
              "      <td>0.000000</td>\n",
              "      <td>0.000000</td>\n",
              "      <td>0.000000</td>\n",
              "    </tr>\n",
              "    <tr>\n",
              "      <th>25%</th>\n",
              "      <td>9.532859</td>\n",
              "      <td>5.517453</td>\n",
              "      <td>2.708050</td>\n",
              "      <td>3.526361</td>\n",
              "    </tr>\n",
              "    <tr>\n",
              "      <th>50%</th>\n",
              "      <td>10.637537</td>\n",
              "      <td>6.880384</td>\n",
              "      <td>3.850148</td>\n",
              "      <td>5.023881</td>\n",
              "    </tr>\n",
              "    <tr>\n",
              "      <th>75%</th>\n",
              "      <td>11.830732</td>\n",
              "      <td>8.514189</td>\n",
              "      <td>5.147494</td>\n",
              "      <td>6.450470</td>\n",
              "    </tr>\n",
              "    <tr>\n",
              "      <th>max</th>\n",
              "      <td>14.658211</td>\n",
              "      <td>11.842357</td>\n",
              "      <td>8.481102</td>\n",
              "      <td>9.935211</td>\n",
              "    </tr>\n",
              "  </tbody>\n",
              "</table>\n",
              "</div>\n",
              "    <div class=\"colab-df-buttons\">\n",
              "\n",
              "  <div class=\"colab-df-container\">\n",
              "    <button class=\"colab-df-convert\" onclick=\"convertToInteractive('df-b59c9187-043d-42ba-934f-89066462f371')\"\n",
              "            title=\"Convert this dataframe to an interactive table.\"\n",
              "            style=\"display:none;\">\n",
              "\n",
              "  <svg xmlns=\"http://www.w3.org/2000/svg\" height=\"24px\" viewBox=\"0 -960 960 960\">\n",
              "    <path d=\"M120-120v-720h720v720H120Zm60-500h600v-160H180v160Zm220 220h160v-160H400v160Zm0 220h160v-160H400v160ZM180-400h160v-160H180v160Zm440 0h160v-160H620v160ZM180-180h160v-160H180v160Zm440 0h160v-160H620v160Z\"/>\n",
              "  </svg>\n",
              "    </button>\n",
              "\n",
              "  <style>\n",
              "    .colab-df-container {\n",
              "      display:flex;\n",
              "      gap: 12px;\n",
              "    }\n",
              "\n",
              "    .colab-df-convert {\n",
              "      background-color: #E8F0FE;\n",
              "      border: none;\n",
              "      border-radius: 50%;\n",
              "      cursor: pointer;\n",
              "      display: none;\n",
              "      fill: #1967D2;\n",
              "      height: 32px;\n",
              "      padding: 0 0 0 0;\n",
              "      width: 32px;\n",
              "    }\n",
              "\n",
              "    .colab-df-convert:hover {\n",
              "      background-color: #E2EBFA;\n",
              "      box-shadow: 0px 1px 2px rgba(60, 64, 67, 0.3), 0px 1px 3px 1px rgba(60, 64, 67, 0.15);\n",
              "      fill: #174EA6;\n",
              "    }\n",
              "\n",
              "    .colab-df-buttons div {\n",
              "      margin-bottom: 4px;\n",
              "    }\n",
              "\n",
              "    [theme=dark] .colab-df-convert {\n",
              "      background-color: #3B4455;\n",
              "      fill: #D2E3FC;\n",
              "    }\n",
              "\n",
              "    [theme=dark] .colab-df-convert:hover {\n",
              "      background-color: #434B5C;\n",
              "      box-shadow: 0px 1px 3px 1px rgba(0, 0, 0, 0.15);\n",
              "      filter: drop-shadow(0px 1px 2px rgba(0, 0, 0, 0.3));\n",
              "      fill: #FFFFFF;\n",
              "    }\n",
              "  </style>\n",
              "\n",
              "    <script>\n",
              "      const buttonEl =\n",
              "        document.querySelector('#df-b59c9187-043d-42ba-934f-89066462f371 button.colab-df-convert');\n",
              "      buttonEl.style.display =\n",
              "        google.colab.kernel.accessAllowed ? 'block' : 'none';\n",
              "\n",
              "      async function convertToInteractive(key) {\n",
              "        const element = document.querySelector('#df-b59c9187-043d-42ba-934f-89066462f371');\n",
              "        const dataTable =\n",
              "          await google.colab.kernel.invokeFunction('convertToInteractive',\n",
              "                                                    [key], {});\n",
              "        if (!dataTable) return;\n",
              "\n",
              "        const docLinkHtml = 'Like what you see? Visit the ' +\n",
              "          '<a target=\"_blank\" href=https://colab.research.google.com/notebooks/data_table.ipynb>data table notebook</a>'\n",
              "          + ' to learn more about interactive tables.';\n",
              "        element.innerHTML = '';\n",
              "        dataTable['output_type'] = 'display_data';\n",
              "        await google.colab.output.renderOutput(dataTable, element);\n",
              "        const docLink = document.createElement('div');\n",
              "        docLink.innerHTML = docLinkHtml;\n",
              "        element.appendChild(docLink);\n",
              "      }\n",
              "    </script>\n",
              "  </div>\n",
              "\n",
              "\n",
              "    <div id=\"df-10a8333b-3dd5-43bc-a145-af8f7801d70d\">\n",
              "      <button class=\"colab-df-quickchart\" onclick=\"quickchart('df-10a8333b-3dd5-43bc-a145-af8f7801d70d')\"\n",
              "                title=\"Suggest charts\"\n",
              "                style=\"display:none;\">\n",
              "\n",
              "<svg xmlns=\"http://www.w3.org/2000/svg\" height=\"24px\"viewBox=\"0 0 24 24\"\n",
              "     width=\"24px\">\n",
              "    <g>\n",
              "        <path d=\"M19 3H5c-1.1 0-2 .9-2 2v14c0 1.1.9 2 2 2h14c1.1 0 2-.9 2-2V5c0-1.1-.9-2-2-2zM9 17H7v-7h2v7zm4 0h-2V7h2v10zm4 0h-2v-4h2v4z\"/>\n",
              "    </g>\n",
              "</svg>\n",
              "      </button>\n",
              "\n",
              "<style>\n",
              "  .colab-df-quickchart {\n",
              "      --bg-color: #E8F0FE;\n",
              "      --fill-color: #1967D2;\n",
              "      --hover-bg-color: #E2EBFA;\n",
              "      --hover-fill-color: #174EA6;\n",
              "      --disabled-fill-color: #AAA;\n",
              "      --disabled-bg-color: #DDD;\n",
              "  }\n",
              "\n",
              "  [theme=dark] .colab-df-quickchart {\n",
              "      --bg-color: #3B4455;\n",
              "      --fill-color: #D2E3FC;\n",
              "      --hover-bg-color: #434B5C;\n",
              "      --hover-fill-color: #FFFFFF;\n",
              "      --disabled-bg-color: #3B4455;\n",
              "      --disabled-fill-color: #666;\n",
              "  }\n",
              "\n",
              "  .colab-df-quickchart {\n",
              "    background-color: var(--bg-color);\n",
              "    border: none;\n",
              "    border-radius: 50%;\n",
              "    cursor: pointer;\n",
              "    display: none;\n",
              "    fill: var(--fill-color);\n",
              "    height: 32px;\n",
              "    padding: 0;\n",
              "    width: 32px;\n",
              "  }\n",
              "\n",
              "  .colab-df-quickchart:hover {\n",
              "    background-color: var(--hover-bg-color);\n",
              "    box-shadow: 0 1px 2px rgba(60, 64, 67, 0.3), 0 1px 3px 1px rgba(60, 64, 67, 0.15);\n",
              "    fill: var(--button-hover-fill-color);\n",
              "  }\n",
              "\n",
              "  .colab-df-quickchart-complete:disabled,\n",
              "  .colab-df-quickchart-complete:disabled:hover {\n",
              "    background-color: var(--disabled-bg-color);\n",
              "    fill: var(--disabled-fill-color);\n",
              "    box-shadow: none;\n",
              "  }\n",
              "\n",
              "  .colab-df-spinner {\n",
              "    border: 2px solid var(--fill-color);\n",
              "    border-color: transparent;\n",
              "    border-bottom-color: var(--fill-color);\n",
              "    animation:\n",
              "      spin 1s steps(1) infinite;\n",
              "  }\n",
              "\n",
              "  @keyframes spin {\n",
              "    0% {\n",
              "      border-color: transparent;\n",
              "      border-bottom-color: var(--fill-color);\n",
              "      border-left-color: var(--fill-color);\n",
              "    }\n",
              "    20% {\n",
              "      border-color: transparent;\n",
              "      border-left-color: var(--fill-color);\n",
              "      border-top-color: var(--fill-color);\n",
              "    }\n",
              "    30% {\n",
              "      border-color: transparent;\n",
              "      border-left-color: var(--fill-color);\n",
              "      border-top-color: var(--fill-color);\n",
              "      border-right-color: var(--fill-color);\n",
              "    }\n",
              "    40% {\n",
              "      border-color: transparent;\n",
              "      border-right-color: var(--fill-color);\n",
              "      border-top-color: var(--fill-color);\n",
              "    }\n",
              "    60% {\n",
              "      border-color: transparent;\n",
              "      border-right-color: var(--fill-color);\n",
              "    }\n",
              "    80% {\n",
              "      border-color: transparent;\n",
              "      border-right-color: var(--fill-color);\n",
              "      border-bottom-color: var(--fill-color);\n",
              "    }\n",
              "    90% {\n",
              "      border-color: transparent;\n",
              "      border-bottom-color: var(--fill-color);\n",
              "    }\n",
              "  }\n",
              "</style>\n",
              "\n",
              "      <script>\n",
              "        async function quickchart(key) {\n",
              "          const quickchartButtonEl =\n",
              "            document.querySelector('#' + key + ' button');\n",
              "          quickchartButtonEl.disabled = true;  // To prevent multiple clicks.\n",
              "          quickchartButtonEl.classList.add('colab-df-spinner');\n",
              "          try {\n",
              "            const charts = await google.colab.kernel.invokeFunction(\n",
              "                'suggestCharts', [key], {});\n",
              "          } catch (error) {\n",
              "            console.error('Error during call to suggestCharts:', error);\n",
              "          }\n",
              "          quickchartButtonEl.classList.remove('colab-df-spinner');\n",
              "          quickchartButtonEl.classList.add('colab-df-quickchart-complete');\n",
              "        }\n",
              "        (() => {\n",
              "          let quickchartButtonEl =\n",
              "            document.querySelector('#df-10a8333b-3dd5-43bc-a145-af8f7801d70d button');\n",
              "          quickchartButtonEl.style.display =\n",
              "            google.colab.kernel.accessAllowed ? 'block' : 'none';\n",
              "        })();\n",
              "      </script>\n",
              "    </div>\n",
              "\n",
              "    </div>\n",
              "  </div>\n"
            ],
            "application/vnd.google.colaboratory.intrinsic+json": {
              "type": "dataframe",
              "summary": "{\n  \"name\": \"data_limpia[[f'{col}_log' for col in columnas_numericas]]\",\n  \"rows\": 8,\n  \"fields\": [\n    {\n      \"column\": \"views_log\",\n      \"properties\": {\n        \"dtype\": \"number\",\n        \"std\": 11845.27027182946,\n        \"min\": 1.5841198240778231,\n        \"max\": 33513.0,\n        \"num_unique_values\": 8,\n        \"samples\": [\n          10.732152166850728,\n          10.6375367244165,\n          33513.0\n        ],\n        \"semantic_type\": \"\",\n        \"description\": \"\"\n      }\n    },\n    {\n      \"column\": \"likes_log\",\n      \"properties\": {\n        \"dtype\": \"number\",\n        \"std\": 11846.517561950415,\n        \"min\": 0.0,\n        \"max\": 33513.0,\n        \"num_unique_values\": 8,\n        \"samples\": [\n          6.952141648336476,\n          6.880384082186005,\n          33513.0\n        ],\n        \"semantic_type\": \"\",\n        \"description\": \"\"\n      }\n    },\n    {\n      \"column\": \"dislikes_log\",\n      \"properties\": {\n        \"dtype\": \"number\",\n        \"std\": 11847.32548432912,\n        \"min\": 0.0,\n        \"max\": 33513.0,\n        \"num_unique_values\": 8,\n        \"samples\": [\n          3.940854442068585,\n          3.8501476017100584,\n          33513.0\n        ],\n        \"semantic_type\": \"\",\n        \"description\": \"\"\n      }\n    },\n    {\n      \"column\": \"comment_count_log\",\n      \"properties\": {\n        \"dtype\": \"number\",\n        \"std\": 11847.01680251612,\n        \"min\": 0.0,\n        \"max\": 33513.0,\n        \"num_unique_values\": 8,\n        \"samples\": [\n          4.97397950607708,\n          5.0238805208462765,\n          33513.0\n        ],\n        \"semantic_type\": \"\",\n        \"description\": \"\"\n      }\n    }\n  ]\n}"
            }
          },
          "metadata": {},
          "execution_count": 80
        }
      ]
    }
  ]
}