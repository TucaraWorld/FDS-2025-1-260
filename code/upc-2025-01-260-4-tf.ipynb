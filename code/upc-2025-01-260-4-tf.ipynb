{
 "cells": [
  {
   "cell_type": "code",
   "execution_count": null,
   "id": "c3045f14",
   "metadata": {},
   "outputs": [],
   "source": [
    "#Carga supongo"
   ]
  }
 ],
 "metadata": {
  "language_info": {
   "name": "python"
  }
 },
 "nbformat": 4,
 "nbformat_minor": 5
}
